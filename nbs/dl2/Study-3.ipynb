{
 "cells": [
  {
   "cell_type": "markdown",
   "id": "d12b17a6-7582-4632-93a7-561c92bc8cc4",
   "metadata": {},
   "source": [
    "This is based on 05a not 04_callbacks this is better to understand first."
   ]
  },
  {
   "cell_type": "code",
   "execution_count": 1,
   "id": "f61fe5d5-6ab5-4ad9-8fb2-2ff8b537e9ff",
   "metadata": {},
   "outputs": [],
   "source": [
    "%load_ext autoreload\n",
    "%autoreload 2\n",
    "%matplotlib inline"
   ]
  },
  {
   "cell_type": "code",
   "execution_count": 3,
   "id": "e01bbadc-5274-4321-bdfb-8a91c76f5077",
   "metadata": {},
   "outputs": [],
   "source": [
    "import torch\n",
    "import matplotlib.pyplot as plt\n",
    "from time import sleep"
   ]
  },
  {
   "cell_type": "code",
   "execution_count": 12,
   "id": "cd71ab37-53ff-4036-a1d6-64a2ba0e5dd9",
   "metadata": {},
   "outputs": [],
   "source": [
    "def slow_calculation():\n",
    "    res = 0\n",
    "    for i in range(5):\n",
    "        res += i*i\n",
    "        sleep(1)\n",
    "    return res"
   ]
  },
  {
   "cell_type": "code",
   "execution_count": 11,
   "id": "870caa51-7bff-4d17-b914-a2732d6a5f86",
   "metadata": {},
   "outputs": [
    {
     "data": {
      "text/plain": [
       "30"
      ]
     },
     "execution_count": 11,
     "metadata": {},
     "output_type": "execute_result"
    }
   ],
   "source": [
    "slow_calculation()"
   ]
  },
  {
   "cell_type": "code",
   "execution_count": 16,
   "id": "fffbcd8d-d0fc-48e1-b9e0-5a776eabb8eb",
   "metadata": {},
   "outputs": [],
   "source": [
    "def slow_calculation(cb=None):\n",
    "    res = 0\n",
    "    for i in range(5):\n",
    "        res += i*i\n",
    "        sleep(1)\n",
    "        if cb : cb(i)\n",
    "    return res"
   ]
  },
  {
   "cell_type": "code",
   "execution_count": 48,
   "id": "2ab8a228-dc94-4fcd-81be-b7886f9c1e15",
   "metadata": {},
   "outputs": [],
   "source": [
    "def show_progress(ex,epoch):\n",
    "    print(f\"{ex}! We've finished {epoch}!\")"
   ]
  },
  {
   "cell_type": "code",
   "execution_count": 18,
   "id": "ef11f652-88a1-4ad4-9e8a-1268a7940b89",
   "metadata": {},
   "outputs": [
    {
     "name": "stdout",
     "output_type": "stream",
     "text": [
      "Awesome! We've finished 0!\n",
      "Awesome! We've finished 1!\n",
      "Awesome! We've finished 2!\n",
      "Awesome! We've finished 3!\n",
      "Awesome! We've finished 4!\n"
     ]
    },
    {
     "data": {
      "text/plain": [
       "30"
      ]
     },
     "execution_count": 18,
     "metadata": {},
     "output_type": "execute_result"
    }
   ],
   "source": [
    "slow_calculation(show_progress)"
   ]
  },
  {
   "cell_type": "code",
   "execution_count": 38,
   "id": "e4cf2bd7-56a4-424a-ae0e-bb5f3c9349f1",
   "metadata": {},
   "outputs": [],
   "source": [
    "def slow_calculation(cb=None):\n",
    "    res = 0\n",
    "    for i in range(5):\n",
    "        res += i*i\n",
    "        sleep(1)\n",
    "        if cb : cb(i)\n",
    "    return res"
   ]
  },
  {
   "cell_type": "code",
   "execution_count": 30,
   "id": "c1fcb797-242c-4727-87b1-1772dad3d953",
   "metadata": {},
   "outputs": [
    {
     "name": "stdout",
     "output_type": "stream",
     "text": [
      "Awesome we've finished 0!\n",
      "Awesome we've finished 1!\n",
      "Awesome we've finished 2!\n",
      "Awesome we've finished 3!\n",
      "Awesome we've finished 4!\n"
     ]
    },
    {
     "data": {
      "text/plain": [
       "30"
      ]
     },
     "execution_count": 30,
     "metadata": {},
     "output_type": "execute_result"
    }
   ],
   "source": [
    "slow_calculation(lambda o : print(f\"Awesome we've finished {o}!\"))"
   ]
  },
  {
   "cell_type": "code",
   "execution_count": 35,
   "id": "7308d694-d296-41bf-8c96-0ee9163d332d",
   "metadata": {},
   "outputs": [],
   "source": [
    "def make_show_progress(exclamation):\n",
    "    _inner = lambda epoch : print(f\"{exclamation} we'have finished {epoch}\")\n",
    "    return _inner"
   ]
  },
  {
   "cell_type": "code",
   "execution_count": 36,
   "id": "a18365a8-352d-466a-ae0b-465cab65bb4e",
   "metadata": {},
   "outputs": [
    {
     "name": "stdout",
     "output_type": "stream",
     "text": [
      "hello we'have finished 0\n",
      "hello we'have finished 1\n",
      "hello we'have finished 2\n",
      "hello we'have finished 3\n",
      "hello we'have finished 4\n"
     ]
    },
    {
     "data": {
      "text/plain": [
       "30"
      ]
     },
     "execution_count": 36,
     "metadata": {},
     "output_type": "execute_result"
    }
   ],
   "source": [
    "slow_calculation(make_show_progress('hello'))"
   ]
  },
  {
   "cell_type": "code",
   "execution_count": 39,
   "id": "a6b9a5ee-743e-4d8d-ae80-f369a1d9de80",
   "metadata": {},
   "outputs": [],
   "source": [
    "def make_show_progress(exclamation):\n",
    "    def _inner(epoch) : print(f\"{exclamation} we'have finished {epoch}\")\n",
    "    return _inner"
   ]
  },
  {
   "cell_type": "code",
   "execution_count": 41,
   "id": "ee54aac3-34dd-4efa-8d42-14eb84f2663c",
   "metadata": {},
   "outputs": [
    {
     "name": "stdout",
     "output_type": "stream",
     "text": [
      "Hi we'have finished 0\n",
      "Hi we'have finished 1\n",
      "Hi we'have finished 2\n",
      "Hi we'have finished 3\n",
      "Hi we'have finished 4\n"
     ]
    },
    {
     "data": {
      "text/plain": [
       "30"
      ]
     },
     "execution_count": 41,
     "metadata": {},
     "output_type": "execute_result"
    }
   ],
   "source": [
    "slow_calculation(make_show_progress('Hi'))"
   ]
  },
  {
   "cell_type": "code",
   "execution_count": 42,
   "id": "3956ffb2-7bf3-4d13-a92e-e29eb5f95eb8",
   "metadata": {},
   "outputs": [],
   "source": [
    "from functools import partial"
   ]
  },
  {
   "cell_type": "code",
   "execution_count": 49,
   "id": "016f0b69-4939-4003-ae7d-f6b1f871318b",
   "metadata": {},
   "outputs": [
    {
     "name": "stdout",
     "output_type": "stream",
     "text": [
      "OK! We've finished 0!\n",
      "OK! We've finished 1!\n",
      "OK! We've finished 2!\n",
      "OK! We've finished 3!\n",
      "OK! We've finished 4!\n"
     ]
    },
    {
     "data": {
      "text/plain": [
       "30"
      ]
     },
     "execution_count": 49,
     "metadata": {},
     "output_type": "execute_result"
    }
   ],
   "source": [
    "slow_calculation(partial(show_progress,('OK')))"
   ]
  },
  {
   "cell_type": "code",
   "execution_count": 51,
   "id": "48fa99a8-da92-4fb9-a88d-805e81f941c5",
   "metadata": {},
   "outputs": [],
   "source": [
    "class ProgressShowingCallback():\n",
    "    def __init__(self, exclamation = \"meh\"): self.exclamation=exclamation\n",
    "    def __call__(self,epoch):print(f\"{self.exclamation} we've finised epoch{epoch}\")"
   ]
  },
  {
   "cell_type": "code",
   "execution_count": 52,
   "id": "03eb42bc-7460-4996-affd-d0eb81cd93f5",
   "metadata": {},
   "outputs": [],
   "source": [
    "cb= ProgressShowingCallback(\"Psst\")"
   ]
  },
  {
   "cell_type": "code",
   "execution_count": 53,
   "id": "94dd30fd-10bc-4978-8011-21150eccf843",
   "metadata": {},
   "outputs": [
    {
     "name": "stdout",
     "output_type": "stream",
     "text": [
      "Psst we've finised epoch0\n",
      "Psst we've finised epoch1\n",
      "Psst we've finised epoch2\n",
      "Psst we've finised epoch3\n",
      "Psst we've finised epoch4\n"
     ]
    },
    {
     "data": {
      "text/plain": [
       "30"
      ]
     },
     "execution_count": 53,
     "metadata": {},
     "output_type": "execute_result"
    }
   ],
   "source": [
    "slow_calculation(cb)"
   ]
  },
  {
   "cell_type": "code",
   "execution_count": 54,
   "id": "20bb293d-f8ad-4c16-a888-87dabdddec7b",
   "metadata": {},
   "outputs": [],
   "source": [
    "def slow_calculation(cb=None):\n",
    "    res = 0\n",
    "    for i in range(5):\n",
    "        if cb : cb.before_calc(i)\n",
    "        res += i*i\n",
    "        sleep(1)\n",
    "        if cb : cb.after_calc(i,val=res)\n",
    "    return res"
   ]
  },
  {
   "cell_type": "code",
   "execution_count": 69,
   "id": "5cc03532-a209-4df0-86d0-e4844a823ac4",
   "metadata": {},
   "outputs": [],
   "source": [
    "class PrintStepCallback():\n",
    "    def __init__(self): pass\n",
    "    def before_calc(self, *args, **kwargs): print(f\"About to start\")\n",
    "    def after_calc (self, *args, **kwargs): print(f\"Done step\")"
   ]
  },
  {
   "cell_type": "code",
   "execution_count": 76,
   "id": "53651562-fcde-41e0-8212-891aefb15810",
   "metadata": {},
   "outputs": [],
   "source": [
    "class SlowCalculator():\n",
    "    def __init__(self, cb=None): self.cb,self.res = cb,0\n",
    "    \n",
    "    def callback(self, cb_name, *args):\n",
    "        print\n",
    "        if not self.cb: return\n",
    "        cb = getattr(self.cb,cb_name, None)\n",
    "        if cb: return cb(self, *args)\n",
    "\n",
    "    def calc(self):\n",
    "        for i in range(5):\n",
    "            self.callback('before_calc', i)\n",
    "            self.res += i*i\n",
    "            sleep(1)\n",
    "            if self.callback('after_calc', i):\n",
    "                print(\"stopping early\")\n",
    "                break"
   ]
  },
  {
   "cell_type": "code",
   "execution_count": 77,
   "id": "4f2f0ff0-8683-4035-9f4e-ae9bddd604d5",
   "metadata": {},
   "outputs": [],
   "source": [
    "class ModifyingCallback():\n",
    "    def after_calc (self, calc, epoch):\n",
    "        print(f\"After {epoch}: {calc.res}\")\n",
    "        if calc.res>10: return True\n",
    "        if calc.res<3: calc.res = calc.res*2"
   ]
  },
  {
   "cell_type": "code",
   "execution_count": 80,
   "id": "8162d8e2-2014-4db2-8268-118f4ec6c865",
   "metadata": {},
   "outputs": [],
   "source": [
    "calculator = SlowCalculator()"
   ]
  },
  {
   "cell_type": "code",
   "execution_count": 81,
   "id": "9ac1efdb-379b-4388-bc07-fc6e014935a9",
   "metadata": {},
   "outputs": [
    {
     "name": "stdout",
     "output_type": "stream",
     "text": [
      "returned\n",
      "returned\n",
      "returned\n",
      "returned\n",
      "returned\n",
      "returned\n",
      "returned\n",
      "returned\n",
      "returned\n",
      "returned\n"
     ]
    },
    {
     "data": {
      "text/plain": [
       "30"
      ]
     },
     "execution_count": 81,
     "metadata": {},
     "output_type": "execute_result"
    }
   ],
   "source": [
    "calculator.calc()\n",
    "calculator.res"
   ]
  },
  {
   "cell_type": "code",
   "execution_count": null,
   "id": "b5c9bd24-ba0d-41b7-ab1d-c3f872ea52ef",
   "metadata": {},
   "outputs": [],
   "source": []
  }
 ],
 "metadata": {
  "kernelspec": {
   "display_name": "Python 3 (ipykernel)",
   "language": "python",
   "name": "python3"
  },
  "language_info": {
   "codemirror_mode": {
    "name": "ipython",
    "version": 3
   },
   "file_extension": ".py",
   "mimetype": "text/x-python",
   "name": "python",
   "nbconvert_exporter": "python",
   "pygments_lexer": "ipython3",
   "version": "3.9.13"
  }
 },
 "nbformat": 4,
 "nbformat_minor": 5
}
