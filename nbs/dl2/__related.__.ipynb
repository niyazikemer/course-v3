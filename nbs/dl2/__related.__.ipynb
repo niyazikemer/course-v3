{
 "cells": [
  {
   "cell_type": "markdown",
   "id": "d3871280-3ae9-43c3-a381-00f17c5228ed",
   "metadata": {},
   "source": [
    "# **Homeworks**"
   ]
  },
  {
   "cell_type": "markdown",
   "id": "679d5a52-8c7c-4733-b3e2-d00c4cc4e839",
   "metadata": {},
   "source": [
    "___"
   ]
  },
  {
   "cell_type": "markdown",
   "id": "43f5cde1-4374-439b-8ff2-49efdfa992b6",
   "metadata": {
    "tags": []
   },
   "source": [
    "### **01_matmul**"
   ]
  },
  {
   "cell_type": "markdown",
   "id": "820f6536-56bd-40e0-91c3-1a10e7fad4af",
   "metadata": {},
   "source": [
    "Study-1 --> Understand the loop"
   ]
  },
  {
   "cell_type": "markdown",
   "id": "b2f59783-5b13-4822-9668-feb884b8d8ca",
   "metadata": {
    "tags": []
   },
   "source": [
    "### **02_fully_connected**"
   ]
  },
  {
   "cell_type": "markdown",
   "id": "978ee3cb-39c9-4250-9db9-71770f5988b6",
   "metadata": {},
   "source": [
    "Study-2 forward and backward passes."
   ]
  },
  {
   "cell_type": "markdown",
   "id": "53f3f571-45bf-4e97-b9ac-ad6a3fe985e8",
   "metadata": {
    "tags": []
   },
   "source": [
    "Study-3: All Refactoring part\n",
    "- `Module` class is brilliant."
   ]
  },
  {
   "cell_type": "markdown",
   "id": "84dc194e-3463-4076-bc68-3fada07d2adb",
   "metadata": {},
   "source": [
    "Homework -1: Read 2.2 of [Delving Deep into Rectifiers](https://arxiv.org/pdf/1502.01852.pdf)  \n",
    "- Read it but, It wouldn't be clear If I had not watched the explanations on the lesson.\n"
   ]
  },
  {
   "cell_type": "markdown",
   "id": "bcc84221-3c23-4e80-a8f2-b930b5fc94b8",
   "metadata": {},
   "source": [
    "Homework -2: Replicate the notebook."
   ]
  },
  {
   "cell_type": "markdown",
   "id": "2a61c49e-3b29-4fc0-b535-e1f77cd43591",
   "metadata": {},
   "source": [
    "___"
   ]
  },
  {
   "cell_type": "markdown",
   "id": "fa1e8aa9-225e-442a-a87d-218f95fee548",
   "metadata": {},
   "source": [
    "# **Further reading**"
   ]
  },
  {
   "cell_type": "markdown",
   "id": "7f7b36e7-b398-4ee1-a9b1-6dcab84a04e8",
   "metadata": {},
   "source": [
    "Read this understand what is going on below.<br>[The Matrix Calculus You Need For Deep Learning](https://explained.ai/matrix-calculus/index.html)"
   ]
  },
  {
   "cell_type": "code",
   "execution_count": null,
   "id": "9192c9ac-9292-44d5-9dfa-627479b2c50c",
   "metadata": {},
   "outputs": [],
   "source": []
  }
 ],
 "metadata": {
  "kernelspec": {
   "display_name": "Python 3 (ipykernel)",
   "language": "python",
   "name": "python3"
  },
  "language_info": {
   "codemirror_mode": {
    "name": "ipython",
    "version": 3
   },
   "file_extension": ".py",
   "mimetype": "text/x-python",
   "name": "python",
   "nbconvert_exporter": "python",
   "pygments_lexer": "ipython3",
   "version": "3.9.13"
  }
 },
 "nbformat": 4,
 "nbformat_minor": 5
}
