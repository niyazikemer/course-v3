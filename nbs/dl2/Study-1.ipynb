{
 "cells": [
  {
   "cell_type": "markdown",
   "id": "19a33202-c4f1-46c9-a4c2-c3ef9e20dbe6",
   "metadata": {
    "tags": []
   },
   "source": [
    "## **this is `01-matmul.ipynb` and `02_fully_connected.ipynb`**"
   ]
  },
  {
   "cell_type": "code",
   "execution_count": 1,
   "id": "723ab07c-751c-4428-87e5-3c515cb9f978",
   "metadata": {},
   "outputs": [],
   "source": [
    "from exp.nb_01 import *"
   ]
  },
  {
   "cell_type": "code",
   "execution_count": 2,
   "id": "92331ca7-c3ee-4d17-870f-c0433c546c12",
   "metadata": {},
   "outputs": [],
   "source": [
    "from pathlib import Path\n",
    "from IPython.core.debugger import set_trace\n",
    "import pickle, gzip, math, torch, matplotlib as mpl\n",
    "import matplotlib.pyplot as plt\n",
    "from torch import tensor"
   ]
  },
  {
   "cell_type": "markdown",
   "id": "c5a54b03-dda1-4e81-b816-5a359d5c76f1",
   "metadata": {
    "tags": []
   },
   "source": [
    "# **Some stuff I think I must understand**"
   ]
  },
  {
   "cell_type": "markdown",
   "id": "d5e95152-a347-4040-b89a-5925d638eb7a",
   "metadata": {},
   "source": [
    "___"
   ]
  },
  {
   "cell_type": "markdown",
   "id": "a3dcbb3d-a14d-4430-a26f-652ef72b4034",
   "metadata": {},
   "source": [
    "# **01-matmul.ipynb - Redo**"
   ]
  },
  {
   "attachments": {
    "39db9acc-a6f0-4767-8140-a47b9957e367.png": {
     "image/png": "[encoded data removed]"
    }
   },
   "cell_type": "markdown",
   "id": "79896d3c-c15b-44cc-814a-bdf1fcf6343a",
   "metadata": {},
   "source": [
    "![image.png](attachment:39db9acc-a6f0-4767-8140-a47b9957e367.png)"
   ]
  },
  {
   "cell_type": "code",
   "execution_count": 3,
   "id": "556cf170-6650-43fd-8b2e-b3a5d6bb1cf7",
   "metadata": {},
   "outputs": [
    {
     "data": {
      "text/plain": [
       "(tensor([[1, 2, 1],\n",
       "         [0, 1, 0],\n",
       "         [2, 3, 4]]),\n",
       " torch.Size([3, 3]),\n",
       " tensor([[2, 5],\n",
       "         [6, 7],\n",
       "         [1, 8]]),\n",
       " torch.Size([3, 2]))"
      ]
     },
     "execution_count": 3,
     "metadata": {},
     "output_type": "execute_result"
    }
   ],
   "source": [
    "a = torch.tensor([[1,2,1],[0,1,0],[2,3,4]])\n",
    "b = torch.tensor([[2,5],[6,7],[1,8]])\n",
    "a,a.shape,b,b.shape"
   ]
  },
  {
   "cell_type": "code",
   "execution_count": 4,
   "id": "ecb9717a-0b00-448d-8768-2256735dd845",
   "metadata": {},
   "outputs": [
    {
     "data": {
      "text/plain": [
       "tensor([[0., 0.],\n",
       "        [0., 0.],\n",
       "        [0., 0.]])"
      ]
     },
     "execution_count": 4,
     "metadata": {},
     "output_type": "execute_result"
    }
   ],
   "source": [
    "torch.zeros(3,2)"
   ]
  },
  {
   "cell_type": "markdown",
   "id": "3ac3720b-3a34-49d8-998f-b894190c99a0",
   "metadata": {},
   "source": [
    "## **This is the most raw way of matrix multiplication**"
   ]
  },
  {
   "cell_type": "code",
   "execution_count": 5,
   "id": "be555e1d-8baa-4a41-a2b1-3093d2086ceb",
   "metadata": {},
   "outputs": [
    {
     "name": "stdout",
     "output_type": "stream",
     "text": [
      "(0, 0) (0, 0) (0, 0)\n",
      "(0, 1) (1, 0) (0, 0)\n",
      "(0, 2) (2, 0) (0, 0)\n",
      "(0, 0) (0, 1) (0, 1)\n",
      "(0, 1) (1, 1) (0, 1)\n",
      "(0, 2) (2, 1) (0, 1)\n",
      "(1, 0) (0, 0) (1, 0)\n",
      "(1, 1) (1, 0) (1, 0)\n",
      "(1, 2) (2, 0) (1, 0)\n",
      "(1, 0) (0, 1) (1, 1)\n",
      "(1, 1) (1, 1) (1, 1)\n",
      "(1, 2) (2, 1) (1, 1)\n",
      "(2, 0) (0, 0) (2, 0)\n",
      "(2, 1) (1, 0) (2, 0)\n",
      "(2, 2) (2, 0) (2, 0)\n",
      "(2, 0) (0, 1) (2, 1)\n",
      "(2, 1) (1, 1) (2, 1)\n",
      "(2, 2) (2, 1) (2, 1)\n"
     ]
    }
   ],
   "source": [
    "result=torch.zeros(3,2)\n",
    "for i in range(3):\n",
    "    for j in range(2):\n",
    "        for k in range(3):\n",
    "            print((i,k),(k,j),(i,j))"
   ]
  },
  {
   "cell_type": "markdown",
   "id": "42d4b3eb-32c5-4b0c-b635-d7497cd2952a",
   "metadata": {},
   "source": [
    "This is what is going on above:  \n",
    "`  a     b     r `   \n",
    "`(i,k),(k,j),(i,j)`"
   ]
  },
  {
   "cell_type": "code",
   "execution_count": 6,
   "id": "59cfd6a5-5d14-4774-876c-5d42a4eba632",
   "metadata": {},
   "outputs": [
    {
     "name": "stdout",
     "output_type": "stream",
     "text": [
      "CPU times: user 4 µs, sys: 1 µs, total: 5 µs\n",
      "Wall time: 7.39 µs\n"
     ]
    },
    {
     "data": {
      "text/plain": [
       "tensor([[15., 27.],\n",
       "        [ 6.,  7.],\n",
       "        [26., 63.]])"
      ]
     },
     "execution_count": 6,
     "metadata": {},
     "output_type": "execute_result"
    }
   ],
   "source": [
    "%time\n",
    "result=torch.zeros(3,2)\n",
    "for i in range(3):\n",
    "    for j in range(2):\n",
    "        for k in range(3):\n",
    "            result[i,j]+=a[i,k]*b[k,j]   \n",
    "result            "
   ]
  },
  {
   "cell_type": "code",
   "execution_count": 7,
   "id": "b5fa90c5-2eb7-4755-98f5-5929a432a93b",
   "metadata": {},
   "outputs": [],
   "source": [
    "def matmul(a,b):\n",
    "    result=torch.zeros(3,2)\n",
    "    ar,ac = a.shape # n_rows * n_cols\n",
    "    br,bc = b.shape\n",
    "    for i in range(ar):\n",
    "        for j in range(bc):\n",
    "            for k in range(ac):\n",
    "                result[i,j]+=a[i,k]*b[k,j]   \n",
    "    return result     \n",
    "    "
   ]
  },
  {
   "cell_type": "code",
   "execution_count": 8,
   "id": "47423981-ea96-43c7-bab9-2b04ef91357f",
   "metadata": {},
   "outputs": [
    {
     "data": {
      "text/plain": [
       "tensor([[15., 27.],\n",
       "        [ 6.,  7.],\n",
       "        [26., 63.]])"
      ]
     },
     "execution_count": 8,
     "metadata": {},
     "output_type": "execute_result"
    }
   ],
   "source": [
    "matmul(a,b)"
   ]
  },
  {
   "cell_type": "markdown",
   "id": "224e1c9b-3c72-43cb-875e-6bbc93b29e13",
   "metadata": {},
   "source": [
    "## **Remove the innermost**"
   ]
  },
  {
   "cell_type": "code",
   "execution_count": 9,
   "id": "d0e7f62b-fed6-4d15-a835-1dfc94998a8a",
   "metadata": {},
   "outputs": [],
   "source": [
    "def matmul(a,b):\n",
    "    \n",
    "    ar,ac = a.shape # n_rows * n_cols\n",
    "    br,bc = b.shape\n",
    "    result=torch.zeros(ar, bc)\n",
    "    for i in range(ar):\n",
    "        for j in range(bc):            \n",
    "            result[i,j]=(a[i,:]*b[:,j]).sum()\n",
    "    return result     \n",
    "    "
   ]
  },
  {
   "cell_type": "code",
   "execution_count": 10,
   "id": "3e8ff740-8708-4b3c-847e-5c48e505ef7e",
   "metadata": {},
   "outputs": [
    {
     "data": {
      "text/plain": [
       "tensor([[15., 27.],\n",
       "        [ 6.,  7.],\n",
       "        [26., 63.]])"
      ]
     },
     "execution_count": 10,
     "metadata": {},
     "output_type": "execute_result"
    }
   ],
   "source": [
    "matmul(a,b)"
   ]
  },
  {
   "cell_type": "markdown",
   "id": "9d4d15b5-9ed5-4e11-b771-3bef0f613d45",
   "metadata": {},
   "source": [
    "## **Broadcast**"
   ]
  },
  {
   "cell_type": "markdown",
   "id": "aad269bf-a346-412c-accc-4a2e4876664b",
   "metadata": {},
   "source": [
    "**unsqueeze part changes the dimension for broadcasting**"
   ]
  },
  {
   "cell_type": "code",
   "execution_count": 11,
   "id": "405bd2d3-cb60-42b4-be40-b62ad676e5f2",
   "metadata": {},
   "outputs": [
    {
     "data": {
      "text/plain": [
       "(torch.Size([3]), torch.Size([3, 1]))"
      ]
     },
     "execution_count": 11,
     "metadata": {},
     "output_type": "execute_result"
    }
   ],
   "source": [
    "a[i].shape,a[i].unsqueeze(-1).shape"
   ]
  },
  {
   "cell_type": "code",
   "execution_count": 12,
   "id": "7e122fd5-889f-4189-9fbb-2eafb41b1e1c",
   "metadata": {},
   "outputs": [
    {
     "data": {
      "text/plain": [
       "tensor([[1],\n",
       "        [2],\n",
       "        [1]])"
      ]
     },
     "execution_count": 12,
     "metadata": {},
     "output_type": "execute_result"
    }
   ],
   "source": [
    "a[0].unsqueeze(1)"
   ]
  },
  {
   "cell_type": "markdown",
   "id": "c5cdb527-7add-411a-b589-7c71198f9a1c",
   "metadata": {
    "tags": []
   },
   "source": [
    "here `a[0].unsqueeze(-1)` makes the shape of the a[0] -> torch.Size([3, 1]) so it broadcasts on m2 according to Broadcasting rules.(second dimension is 1)\n",
    "\n",
    "*one of them is 1, in which case that dimension is broadcasted to make it the same size*"
   ]
  },
  {
   "cell_type": "markdown",
   "id": "4b94b59d-86d7-4d54-bcd3-bcb20431799c",
   "metadata": {},
   "source": [
    "**this is the first row of the result is below (not yet summed on `dim = 0`**"
   ]
  },
  {
   "cell_type": "code",
   "execution_count": 13,
   "id": "f7f8e368-cce9-4b5b-9739-3839bac8001a",
   "metadata": {},
   "outputs": [
    {
     "data": {
      "text/plain": [
       "tensor([[ 2,  5],\n",
       "        [12, 14],\n",
       "        [ 1,  8]])"
      ]
     },
     "execution_count": 13,
     "metadata": {},
     "output_type": "execute_result"
    }
   ],
   "source": [
    "(a[0].unsqueeze(1)*b)"
   ]
  },
  {
   "cell_type": "markdown",
   "id": "cdaad231-efb0-451c-beb1-89974d71963e",
   "metadata": {},
   "source": [
    "**this is the first row of the result is below after summation `dim = 0`**"
   ]
  },
  {
   "cell_type": "code",
   "execution_count": 14,
   "id": "a820a610-997c-4a56-82cc-8d315830ad87",
   "metadata": {},
   "outputs": [
    {
     "data": {
      "text/plain": [
       "tensor([15, 27])"
      ]
     },
     "execution_count": 14,
     "metadata": {},
     "output_type": "execute_result"
    }
   ],
   "source": [
    "(a[0].unsqueeze(1)*b).sum(dim=0)"
   ]
  },
  {
   "cell_type": "code",
   "execution_count": 15,
   "id": "d6c09357-373f-4d60-bacf-8526aa54c285",
   "metadata": {},
   "outputs": [],
   "source": [
    "def matmul(a,b):    \n",
    "    ar,ac = a.shape # n_rows * n_cols\n",
    "    br,bc = b.shape\n",
    "    result=torch.zeros(ar, bc)\n",
    "    for i in range(ar):                   \n",
    "            result[i]=(a[i].unsqueeze(-1)*b).sum(dim=0)\n",
    "    return result     \n",
    "    "
   ]
  },
  {
   "cell_type": "code",
   "execution_count": 16,
   "id": "1073bc29-d8d8-4da1-bf21-d8c49efa9e32",
   "metadata": {},
   "outputs": [
    {
     "data": {
      "text/plain": [
       "tensor([[15., 27.],\n",
       "        [ 6.,  7.],\n",
       "        [26., 63.]])"
      ]
     },
     "execution_count": 16,
     "metadata": {},
     "output_type": "execute_result"
    }
   ],
   "source": [
    "matmul(a,b)"
   ]
  },
  {
   "cell_type": "markdown",
   "id": "46388536-e7fc-4797-abc9-570c6b77d78c",
   "metadata": {},
   "source": [
    "# **02_fully_connected.ipynb - Redo**"
   ]
  },
  {
   "cell_type": "markdown",
   "id": "c9c1e688-bd7b-44b3-85c4-a9124b2bc97a",
   "metadata": {
    "tags": []
   },
   "source": [
    "## **Dataset**"
   ]
  },
  {
   "cell_type": "code",
   "execution_count": 17,
   "id": "42d0a5ed-dbf6-4e2d-88ed-c1daa06ec9a4",
   "metadata": {},
   "outputs": [],
   "source": [
    "path=Path('mnist.pkl.gz')\n",
    "with gzip.open(path) as f:\n",
    "    x=pickle.load(f,encoding='latin-1')"
   ]
  },
  {
   "cell_type": "markdown",
   "id": "92aa0d11-d82f-4cfb-a2e9-86e4be29ba68",
   "metadata": {},
   "source": [
    "**this is the training set**"
   ]
  },
  {
   "cell_type": "code",
   "execution_count": 18,
   "id": "2f64ff4b-183f-4f55-a916-9c8f8ca40247",
   "metadata": {},
   "outputs": [
    {
     "data": {
      "text/plain": [
       "((50000, 784), (50000,))"
      ]
     },
     "execution_count": 18,
     "metadata": {},
     "output_type": "execute_result"
    }
   ],
   "source": [
    "x[0][0].shape,x[0][1].shape"
   ]
  },
  {
   "cell_type": "markdown",
   "id": "6600db70-2316-435f-ac2a-13fdbdcda982",
   "metadata": {},
   "source": [
    "**this is the validation set**"
   ]
  },
  {
   "cell_type": "code",
   "execution_count": 19,
   "id": "bcbda2ea-3e0a-4013-a4a1-fdae0012a88c",
   "metadata": {},
   "outputs": [
    {
     "data": {
      "text/plain": [
       "((10000, 784), (10000,))"
      ]
     },
     "execution_count": 19,
     "metadata": {},
     "output_type": "execute_result"
    }
   ],
   "source": [
    "x[1][0].shape,x[1][1].shape"
   ]
  },
  {
   "cell_type": "markdown",
   "id": "52697c65-a3d8-45e2-a077-5216ff6a4fc4",
   "metadata": {},
   "source": [
    "**this is the test set**"
   ]
  },
  {
   "cell_type": "code",
   "execution_count": 20,
   "id": "13b71fe8-659e-4655-ba8d-1cc9423f247b",
   "metadata": {},
   "outputs": [
    {
     "data": {
      "text/plain": [
       "(10000, 784)"
      ]
     },
     "execution_count": 20,
     "metadata": {},
     "output_type": "execute_result"
    }
   ],
   "source": [
    "x[2][0].shape"
   ]
  },
  {
   "cell_type": "markdown",
   "id": "2fb42604-7b49-45bb-950a-635c909b157d",
   "metadata": {},
   "source": [
    "## **Get the data**"
   ]
  },
  {
   "cell_type": "code",
   "execution_count": 21,
   "id": "be01e205-8daa-4a38-9cd1-3b283607904c",
   "metadata": {},
   "outputs": [],
   "source": [
    "def get_data():\n",
    "    path=Path('mnist.pkl.gz')\n",
    "    with gzip.open(path) as f:\n",
    "        #(x_train,train_y),(x_valid,valid_y) = f\n",
    "        ((x_train,y_train),(x_valid,y_valid),_)=pickle.load(f,encoding='latin-1')\n",
    "        return map(tensor, (x_train,y_train,x_valid,y_valid))\n",
    "def normalize(x,m,s):\n",
    "    return (x-m)/s"
   ]
  },
  {
   "cell_type": "code",
   "execution_count": 22,
   "id": "dd60bdac-295b-43fb-85ab-3e4b4b3de08f",
   "metadata": {},
   "outputs": [],
   "source": [
    "x_train,y_train,x_valid,y_valid=get_data()"
   ]
  },
  {
   "cell_type": "code",
   "execution_count": 23,
   "id": "1e544de2-4be9-436a-8a94-da65e87966b3",
   "metadata": {},
   "outputs": [
    {
     "data": {
      "text/plain": [
       "(tensor(0.1304), tensor(0.3073))"
      ]
     },
     "execution_count": 23,
     "metadata": {},
     "output_type": "execute_result"
    }
   ],
   "source": [
    "x_train.mean(),x_train.std()"
   ]
  },
  {
   "cell_type": "markdown",
   "id": "59050cbc-ed17-40af-a2c1-6f611acd346c",
   "metadata": {},
   "source": [
    "### **Normalize it**\n",
    "___"
   ]
  },
  {
   "cell_type": "code",
   "execution_count": 24,
   "id": "6586e33f-275c-4126-9d2c-b1e860d1a289",
   "metadata": {},
   "outputs": [
    {
     "data": {
      "text/plain": [
       "(tensor(0.1304), tensor(0.3073))"
      ]
     },
     "execution_count": 24,
     "metadata": {},
     "output_type": "execute_result"
    }
   ],
   "source": [
    "train_mean,train_std =x_train.mean(),x_train.std()\n",
    "train_mean,train_std"
   ]
  },
  {
   "cell_type": "code",
   "execution_count": 25,
   "id": "bd6fd631-b9a5-48b3-b1e1-98c359183c66",
   "metadata": {},
   "outputs": [],
   "source": [
    "x_train = normalize(x_train,train_mean,train_std)"
   ]
  },
  {
   "cell_type": "code",
   "execution_count": 26,
   "id": "1cd7deb6-5ba8-41e3-8c51-dbb13ff03cc7",
   "metadata": {},
   "outputs": [
    {
     "data": {
      "text/plain": [
       "(tensor(2.1325e-08), tensor(1.))"
      ]
     },
     "execution_count": 26,
     "metadata": {},
     "output_type": "execute_result"
    }
   ],
   "source": [
    "x_train.mean(),x_train.std()"
   ]
  },
  {
   "cell_type": "markdown",
   "id": "f2d15cf6-1c5d-4e48-9473-63fa0f453cb1",
   "metadata": {},
   "source": [
    "**now mean is close to 0 and deviation is 1**"
   ]
  },
  {
   "cell_type": "code",
   "execution_count": 27,
   "id": "f7514705-74a4-4985-822e-d54a4f19bd91",
   "metadata": {},
   "outputs": [
    {
     "data": {
      "text/plain": [
       "(tensor(0.1287), tensor(0.3050))"
      ]
     },
     "execution_count": 27,
     "metadata": {},
     "output_type": "execute_result"
    }
   ],
   "source": [
    "x_valid.mean(),x_valid.std()"
   ]
  },
  {
   "cell_type": "code",
   "execution_count": 28,
   "id": "0a85a205-8303-47f5-9469-09576ac71fe2",
   "metadata": {},
   "outputs": [],
   "source": [
    "x_valid = normalize(x_valid, train_mean, train_std)"
   ]
  },
  {
   "cell_type": "code",
   "execution_count": 29,
   "id": "7b816108-96f6-4616-a25a-1095d8d8bd47",
   "metadata": {},
   "outputs": [
    {
     "data": {
      "text/plain": [
       "(tensor(-0.0059), tensor(0.9924))"
      ]
     },
     "execution_count": 29,
     "metadata": {},
     "output_type": "execute_result"
    }
   ],
   "source": [
    "x_valid.mean(),x_valid.std()"
   ]
  },
  {
   "cell_type": "markdown",
   "id": "327bf4d7-8aea-4125-9ac3-c071ad42bcb7",
   "metadata": {},
   "source": [
    "**Test the mean. (`x` must be a tensor**)"
   ]
  },
  {
   "cell_type": "code",
   "execution_count": 30,
   "id": "cd6a8165-7858-4f3c-a0b1-c60d5b92ba23",
   "metadata": {},
   "outputs": [],
   "source": [
    "def test_near_zero(x,tolerance=1e-3):\n",
    "    assert x.abs()<tolerance,f'near zero{x}'"
   ]
  },
  {
   "cell_type": "code",
   "execution_count": 31,
   "id": "b9c3c697-a717-4258-a586-c439aa15b43d",
   "metadata": {},
   "outputs": [
    {
     "data": {
      "text/plain": [
       "tensor(2.1325e-08)"
      ]
     },
     "execution_count": 31,
     "metadata": {},
     "output_type": "execute_result"
    }
   ],
   "source": [
    "x_train.mean()"
   ]
  },
  {
   "cell_type": "code",
   "execution_count": 32,
   "id": "711de869-5001-4f96-bbfb-d5117395de2b",
   "metadata": {},
   "outputs": [],
   "source": [
    "test_near_zero(x_train.mean(),tolerance=1e-3)"
   ]
  },
  {
   "cell_type": "markdown",
   "id": "6c156b48-0314-42b8-840c-71e5cad5a10e",
   "metadata": {},
   "source": []
  },
  {
   "cell_type": "code",
   "execution_count": 33,
   "id": "17ea5826-3dfe-4169-be6e-c93d40197b49",
   "metadata": {},
   "outputs": [
    {
     "data": {
      "text/plain": [
       "(50000, 784, tensor(10))"
      ]
     },
     "execution_count": 33,
     "metadata": {},
     "output_type": "execute_result"
    }
   ],
   "source": [
    "n,m = x_train.shape\n",
    "c = y_train.max()+1\n",
    "n,m,c"
   ]
  },
  {
   "cell_type": "markdown",
   "id": "ca5ae3c6-e132-440a-bbe1-9910c37c8acd",
   "metadata": {},
   "source": [
    "___"
   ]
  },
  {
   "cell_type": "markdown",
   "id": "0863e82c-c467-45c9-9df8-14846e5db15e",
   "metadata": {},
   "source": [
    "### **Create a linear layer and relu activation**"
   ]
  },
  {
   "cell_type": "code",
   "execution_count": 34,
   "id": "e2b49e7d-9f55-4748-a259-4fe2f54c54bf",
   "metadata": {},
   "outputs": [],
   "source": [
    "def lin(x,w,b):\n",
    "    return x@w+b"
   ]
  },
  {
   "cell_type": "code",
   "execution_count": 35,
   "id": "6257fe74-34cc-447d-9690-c877457484e4",
   "metadata": {},
   "outputs": [],
   "source": [
    "def relu(x): return x.clamp_min(0.)"
   ]
  },
  {
   "cell_type": "code",
   "execution_count": 36,
   "id": "90afb0ad-dbf8-4dea-9220-d560d0b6c4f6",
   "metadata": {},
   "outputs": [],
   "source": [
    "# num hidden\n",
    "nh = 50"
   ]
  },
  {
   "cell_type": "markdown",
   "id": "5bf74919-28da-4769-92d3-bf3b7b15cb44",
   "metadata": {},
   "source": [
    "1. **Create random weighs for images (28*28)  * (hidden activations)  for the first layer**\n",
    "2. **for the second layer create weights as the same number hidden activation  * (number of outputs which is one**"
   ]
  },
  {
   "cell_type": "markdown",
   "id": "5baea6de-7d6d-4ef0-985e-2ea4cb62b9d6",
   "metadata": {},
   "source": [
    "### **Normalize the weights with standart xavier init**"
   ]
  },
  {
   "cell_type": "code",
   "execution_count": 37,
   "id": "534b5d9a-3ece-473a-a2e1-db1de009354a",
   "metadata": {},
   "outputs": [],
   "source": [
    "w1 = torch.randn(m,nh)\n",
    "b1 = torch.zeros(nh)\n",
    "w2 = torch.randn(nh,1)\n",
    "b2 = torch.zeros(1)"
   ]
  },
  {
   "cell_type": "code",
   "execution_count": 38,
   "id": "3755e1eb-bb28-4782-b8d7-e5a58c07d9be",
   "metadata": {},
   "outputs": [
    {
     "data": {
      "text/plain": [
       "(torch.Size([784, 50]), torch.Size([50]), torch.Size([50, 1]), torch.Size([1]))"
      ]
     },
     "execution_count": 38,
     "metadata": {},
     "output_type": "execute_result"
    }
   ],
   "source": [
    "w1.shape, b1.shape, w2.shape,b2.shape"
   ]
  },
  {
   "cell_type": "markdown",
   "id": "3dd40c39-a4fd-4430-aa3d-3b32c184a503",
   "metadata": {},
   "source": [
    "Normally randn is a normal distribution so this is mean and standar deviation."
   ]
  },
  {
   "cell_type": "code",
   "execution_count": 39,
   "id": "091c18c4-fb43-4376-b09f-3e41e4f28f74",
   "metadata": {},
   "outputs": [
    {
     "data": {
      "text/plain": [
       "(tensor(0.0103), tensor(1.0067))"
      ]
     },
     "execution_count": 39,
     "metadata": {},
     "output_type": "execute_result"
    }
   ],
   "source": [
    "w1.mean(),w1.std()"
   ]
  },
  {
   "cell_type": "markdown",
   "id": "5c104fc1-47bb-4434-9ac8-a114ff4f6473",
   "metadata": {},
   "source": [
    "this is xavier"
   ]
  },
  {
   "cell_type": "code",
   "execution_count": 40,
   "id": "54582e1d-9109-4cb4-9387-4a8ebd86ec6a",
   "metadata": {},
   "outputs": [],
   "source": [
    "w1 = torch.randn(m,nh)/math.sqrt(m)\n",
    "b1 = torch.zeros(nh)\n",
    "w2 = torch.rand(nh,1)/math.sqrt(m)\n",
    "b2 = torch.zeros(1)"
   ]
  },
  {
   "cell_type": "code",
   "execution_count": 41,
   "id": "c7958708-b2fc-4601-852d-0c318ca7cfd8",
   "metadata": {},
   "outputs": [
    {
     "data": {
      "text/plain": [
       "(tensor(-0.0002), tensor(0.0358))"
      ]
     },
     "execution_count": 41,
     "metadata": {},
     "output_type": "execute_result"
    }
   ],
   "source": [
    "w1.mean(),w1.std()"
   ]
  },
  {
   "cell_type": "code",
   "execution_count": 42,
   "id": "a6ea8984-d8cc-4da3-b087-70de22862681",
   "metadata": {},
   "outputs": [],
   "source": [
    "test_near_zero(w1.mean())\n",
    "test_near_zero(w1.std()-1/math.sqrt(m))"
   ]
  },
  {
   "cell_type": "code",
   "execution_count": 43,
   "id": "d0e3bb17-cda9-4126-919a-e5925ad7a41d",
   "metadata": {},
   "outputs": [
    {
     "data": {
      "text/plain": [
       "(tensor(-0.0059), tensor(0.9924))"
      ]
     },
     "execution_count": 43,
     "metadata": {},
     "output_type": "execute_result"
    }
   ],
   "source": [
    "x_valid.mean(),x_valid.std()"
   ]
  },
  {
   "cell_type": "markdown",
   "id": "07f3da7d-415c-4891-aac4-49697b5b6f9c",
   "metadata": {},
   "source": [
    "#### **feed the valid to the linear layer**"
   ]
  },
  {
   "cell_type": "code",
   "execution_count": 44,
   "id": "a149ceed-1107-462f-8600-d475ff001921",
   "metadata": {},
   "outputs": [],
   "source": [
    "t=lin(x_valid,w1,b1)"
   ]
  },
  {
   "cell_type": "code",
   "execution_count": 45,
   "id": "545c4368-3953-4a97-894c-95f21ee7ffae",
   "metadata": {},
   "outputs": [
    {
     "data": {
      "text/plain": [
       "(tensor(-0.0397), tensor(1.0071))"
      ]
     },
     "execution_count": 45,
     "metadata": {},
     "output_type": "execute_result"
    }
   ],
   "source": [
    "t.mean(),t.std()"
   ]
  },
  {
   "cell_type": "markdown",
   "id": "455a44e9-0fce-42a0-8310-a05ae964463d",
   "metadata": {},
   "source": [
    "#### **feed the valid to the relu activation layer**"
   ]
  },
  {
   "cell_type": "markdown",
   "id": "c114f5d4-8415-4fe1-b624-719998722256",
   "metadata": {},
   "source": [
    "**results are not great**"
   ]
  },
  {
   "cell_type": "code",
   "execution_count": 46,
   "id": "b9943aad-bd82-4b6e-a605-2bd98a8b5bac",
   "metadata": {},
   "outputs": [
    {
     "data": {
      "text/plain": [
       "(tensor(0.3758), tensor(0.5854))"
      ]
     },
     "execution_count": 46,
     "metadata": {},
     "output_type": "execute_result"
    }
   ],
   "source": [
    "t = relu(lin(x_valid,w1,b1))\n",
    "t.mean(),t.std() "
   ]
  },
  {
   "cell_type": "markdown",
   "id": "b1c66476-8768-4d00-a002-52ed782951bb",
   "metadata": {},
   "source": [
    "### **Normalize the weights with Kaiming init**"
   ]
  },
  {
   "cell_type": "markdown",
   "id": "a8cfe370-3e6a-46da-b521-b247e110d342",
   "metadata": {},
   "source": [
    "Spot the difference `math.sqrt(2./m )` and the result is far better. "
   ]
  },
  {
   "cell_type": "code",
   "execution_count": 47,
   "id": "4c7f8f55-39f0-40aa-9bd8-741007b1c10a",
   "metadata": {},
   "outputs": [
    {
     "data": {
      "text/plain": [
       "(tensor(0.5117), tensor(0.7864))"
      ]
     },
     "execution_count": 47,
     "metadata": {},
     "output_type": "execute_result"
    }
   ],
   "source": [
    "# kaiming init / he init for relu\n",
    "w1 = torch.randn(m,nh)*math.sqrt(2./m )\n",
    "t1 = relu(lin(x_valid, w1, b1))\n",
    "t1.mean(),t1.std()"
   ]
  },
  {
   "cell_type": "markdown",
   "id": "56c561e0-2b48-4871-a1ae-5a29d6ec6c1f",
   "metadata": {},
   "source": [
    "kaiming is better\n",
    "___"
   ]
  },
  {
   "cell_type": "markdown",
   "id": "26c34c36-b6bc-4232-9472-e98d69647d0c",
   "metadata": {},
   "source": [
    "## **Create the model**"
   ]
  },
  {
   "cell_type": "code",
   "execution_count": 48,
   "id": "3bf5565b-bdd6-4f20-9172-991c5f7ac33e",
   "metadata": {},
   "outputs": [],
   "source": [
    "def model(x):\n",
    "    l1=lin(x,w1,b1)\n",
    "    l2=relu(l1)\n",
    "    l3=lin(l2,w2,b2)\n",
    "    return l3"
   ]
  },
  {
   "cell_type": "code",
   "execution_count": 49,
   "id": "c6778e70-7249-4c43-adc5-6c2d78f6dff9",
   "metadata": {},
   "outputs": [
    {
     "data": {
      "text/plain": [
       "torch.Size([10000, 1])"
      ]
     },
     "execution_count": 49,
     "metadata": {},
     "output_type": "execute_result"
    }
   ],
   "source": [
    "model(x_valid).shape"
   ]
  },
  {
   "cell_type": "code",
   "execution_count": 50,
   "id": "5e8ed025-9e74-4603-8a6d-0903ed9c8e8a",
   "metadata": {},
   "outputs": [
    {
     "data": {
      "text/plain": [
       "torch.Size([10000])"
      ]
     },
     "execution_count": 50,
     "metadata": {},
     "output_type": "execute_result"
    }
   ],
   "source": [
    "y_valid.shape"
   ]
  },
  {
   "cell_type": "code",
   "execution_count": 51,
   "id": "e8de0292-82c3-43f6-ab65-9324b6a22900",
   "metadata": {},
   "outputs": [],
   "source": [
    "assert model(x_valid).squeeze(-1).shape == y_valid.shape"
   ]
  },
  {
   "cell_type": "markdown",
   "id": "9e5455d7-bba3-4c78-b5c4-33f263d4cd6c",
   "metadata": {},
   "source": [
    "## **Create a MSE loss**"
   ]
  },
  {
   "cell_type": "code",
   "execution_count": 52,
   "id": "77581bfc-acab-4de5-ad0e-b4330ea8f377",
   "metadata": {},
   "outputs": [],
   "source": [
    "def mse(output,target):\n",
    "    return ((output.squeeze(-1)-target).pow(2)).mean()"
   ]
  },
  {
   "cell_type": "code",
   "execution_count": 53,
   "id": "be9a8b42-15fe-4362-a240-34cb67e02ab8",
   "metadata": {},
   "outputs": [],
   "source": [
    "predictions= model(x_train)"
   ]
  },
  {
   "cell_type": "code",
   "execution_count": 54,
   "id": "03e5b010-66d2-472e-801e-e3066bf26d4f",
   "metadata": {},
   "outputs": [
    {
     "data": {
      "text/plain": [
       "tensor(24.3061)"
      ]
     },
     "execution_count": 54,
     "metadata": {},
     "output_type": "execute_result"
    }
   ],
   "source": [
    "loss=mse(predictions,y_train)\n",
    "loss"
   ]
  },
  {
   "cell_type": "markdown",
   "id": "a2699942-fa86-439c-ba20-6729a4f8a2b9",
   "metadata": {},
   "source": [
    "## **Calculate gradients for bacward pass**"
   ]
  },
  {
   "cell_type": "markdown",
   "id": "bc8e0367-d865-4975-bde2-ad13d051f750",
   "metadata": {},
   "source": [
    "**Mse gradient**"
   ]
  },
  {
   "cell_type": "markdown",
   "id": "2c0d1b65-a191-480a-aeea-5c431ebc27cd",
   "metadata": {},
   "source": [
    "only thing is why  `inp-targ` instead of `targ-inp` the result is same but for a different loss it may change. Is this a rule?"
   ]
  },
  {
   "cell_type": "code",
   "execution_count": 55,
   "id": "bd6275db-d387-40cc-9dfb-61b5bab65bb7",
   "metadata": {},
   "outputs": [],
   "source": [
    "def mse_grad(inp,targ):\n",
    "    inp.g = 2*(inp.squeeze()-targ).unsqueeze(-1)/inp.shape[0]"
   ]
  },
  {
   "cell_type": "markdown",
   "id": "32c8ce9c-6bad-4adb-b98b-6142de16c963",
   "metadata": {},
   "source": [
    "**I have no idea how `w.g`. and `b.g`was calculated**\n",
    "\n",
    "This could be the answer:  Read this understand what is going on below.<br>[The Matrix Calculus You Need For Deep Learning](https://explained.ai/matrix-calculus/index.html)"
   ]
  },
  {
   "cell_type": "code",
   "execution_count": 56,
   "id": "b66a603a-9d5d-4818-83c6-fcfba7da64e8",
   "metadata": {},
   "outputs": [],
   "source": [
    "def lin_grad(inp,out,w,b):\n",
    "    inp.g= out.g @ w.t()\n",
    "    print(f'inp (unsqueezed) shape: {inp.unsqueeze(-1).shape} out.g shape: {out.g.shape}')\n",
    "    w.g = (inp.unsqueeze(-1)*out.g.unsqueeze(1).sum(0))\n",
    "    b.g = (out.g.sum(0))\n",
    "    "
   ]
  },
  {
   "cell_type": "code",
   "execution_count": 57,
   "id": "57f09102-484d-4316-b044-189ddf6de58b",
   "metadata": {},
   "outputs": [],
   "source": [
    "def relu_grad(inp,out):\n",
    "    #print((inp>0).float().shape)\n",
    "    inp.g = (inp>0).float() * out.g"
   ]
  },
  {
   "cell_type": "code",
   "execution_count": 60,
   "id": "a0808f02-d6c6-42c2-81af-6209a08ac2df",
   "metadata": {},
   "outputs": [],
   "source": [
    "def forward_and_backward(inp,targ):\n",
    "    l1 = inp @ w1 +b1\n",
    "    l2 = relu(l1)\n",
    "    out = l2 @ w2 + b2\n",
    "    \n",
    "    mse_grad(out,targ)\n",
    "    print(out.g.shape)\n",
    "    lin_grad(l2,out,w2,b2)\n",
    "    relu_grad(l1,l2)\n",
    "    lin_grad(inp,l1,w1,b1)"
   ]
  },
  {
   "cell_type": "markdown",
   "id": "ab44b96e-9e22-4df6-af29-f4401174e501",
   "metadata": {},
   "source": [
    "### **Forward & Backward  and check the results with the PyTorch**"
   ]
  },
  {
   "cell_type": "code",
   "execution_count": 61,
   "id": "8e652f6a-bc90-4ce5-9f9a-4b2938ec8bf6",
   "metadata": {},
   "outputs": [
    {
     "name": "stdout",
     "output_type": "stream",
     "text": [
      "torch.Size([50000, 1])\n",
      "inp (unsqueezed) shape: torch.Size([50000, 50, 1]) out.g shape: torch.Size([50000, 1])\n",
      "inp (unsqueezed) shape: torch.Size([50000, 784, 1]) out.g shape: torch.Size([50000, 50])\n"
     ]
    }
   ],
   "source": [
    "forward_and_backward(x_train, y_train)"
   ]
  },
  {
   "cell_type": "markdown",
   "id": "e2092132-17f2-459f-9345-849d4d46c1d8",
   "metadata": {},
   "source": [
    "**these are clones of our weights and biases**"
   ]
  },
  {
   "cell_type": "code",
   "execution_count": 60,
   "id": "19c908b8-ee72-4da9-bd23-83e70be6798f",
   "metadata": {},
   "outputs": [],
   "source": [
    "w1g = w1.g.clone()\n",
    "w2g = w2.g.clone()\n",
    "b1g = b1.g.clone()\n",
    "b2g = b2.g.clone()"
   ]
  },
  {
   "cell_type": "markdown",
   "id": "94c9ad2f-4444-418e-9789-15f4c82687b5",
   "metadata": {},
   "source": [
    "clone training set and all weight and bisases `requires_grad_` is a trick. look at `_` at the end. Normal requires_grad throws error."
   ]
  },
  {
   "cell_type": "code",
   "execution_count": 61,
   "id": "42586011-96d0-4d7f-b334-865bd0e14e9f",
   "metadata": {},
   "outputs": [],
   "source": [
    "xt2 = x_train.clone().requires_grad_(True)\n",
    "w12 = w1.clone().requires_grad_(True)\n",
    "w22 = w2.clone().requires_grad_(True)\n",
    "b12 = b1.clone().requires_grad_(True)\n",
    "b22 = b2.clone().requires_grad_(True)"
   ]
  },
  {
   "cell_type": "code",
   "execution_count": 62,
   "id": "2a4b3108-26b3-4c33-b8eb-7dccc8130288",
   "metadata": {},
   "outputs": [],
   "source": [
    "test_near(w2g, w2.g)"
   ]
  },
  {
   "cell_type": "markdown",
   "id": "2fc2a5be-d491-4f63-b0ca-953438963953",
   "metadata": {},
   "source": [
    "## Refactor model"
   ]
  },
  {
   "cell_type": "markdown",
   "id": "906f31d2-05ca-4031-b95b-af7b00da15a1",
   "metadata": {},
   "source": [
    "**Put Everything in a respective class**"
   ]
  },
  {
   "cell_type": "code",
   "execution_count": 63,
   "id": "a1aa13ed-d069-40d2-b6bc-f11287562d52",
   "metadata": {},
   "outputs": [],
   "source": [
    "x= torch.randn(3,3)"
   ]
  },
  {
   "cell_type": "code",
   "execution_count": 64,
   "id": "b7487f5e-0dbc-4f26-b029-8432f4ba1e3a",
   "metadata": {},
   "outputs": [
    {
     "data": {
      "text/plain": [
       "tensor([[-1.8900,  1.4404, -0.0367],\n",
       "        [-2.7768, -1.7904, -0.6495],\n",
       "        [-1.5550, -0.1749, -0.8517]])"
      ]
     },
     "execution_count": 64,
     "metadata": {},
     "output_type": "execute_result"
    }
   ],
   "source": [
    "x"
   ]
  },
  {
   "cell_type": "code",
   "execution_count": 65,
   "id": "8530902d-6e46-4bb8-b8d7-17d6e65dcf0a",
   "metadata": {},
   "outputs": [
    {
     "data": {
      "text/plain": [
       "tensor([[0.0000, 1.4404, 0.0000],\n",
       "        [0.0000, 0.0000, 0.0000],\n",
       "        [0.0000, 0.0000, 0.0000]])"
      ]
     },
     "execution_count": 65,
     "metadata": {},
     "output_type": "execute_result"
    }
   ],
   "source": [
    "x=x.clamp_min(0)\n",
    "x"
   ]
  },
  {
   "cell_type": "code",
   "execution_count": 66,
   "id": "f3726416-21fe-4233-8971-58ae56e355f8",
   "metadata": {},
   "outputs": [],
   "source": [
    "class Relu():\n",
    "    def __call__(self,inp):\n",
    "        self.inp=inp\n",
    "        self.out= inp.clamp_min(0)-0.5\n",
    "        return self.out\n",
    "    def backward(self):\n",
    "        self.inp.g = (self.inp>0).float() * self.out.g\n",
    "        \n",
    "        "
   ]
  },
  {
   "cell_type": "code",
   "execution_count": 67,
   "id": "95e98ac5-1981-4a6e-9507-58c8b568f2f4",
   "metadata": {},
   "outputs": [],
   "source": [
    "class Lin():\n",
    "    def __init__(self,w,b):\n",
    "        self.w=w\n",
    "        self.b=b\n",
    "    def __call__(self,inp):\n",
    "        self.inp=inp\n",
    "        self.out= inp @ self.w + self.b\n",
    "        return self.out\n",
    "    def backward(self):\n",
    "        self.inp.g= self.out.g @ self.w.t()\n",
    "        self.w.g = self.inp.t() @ self.out.g\n",
    "        #This is the same\n",
    "        #self.w.g =(self.inp.unsqueeze(-1)*self.out.g.unsqueeze(1).sum(0))\n",
    "        self.b.g = (self.out.g.sum(0))\n",
    "        "
   ]
  },
  {
   "cell_type": "code",
   "execution_count": 68,
   "id": "049e9e0a-2f79-4678-9532-405cf068d2ee",
   "metadata": {},
   "outputs": [],
   "source": [
    "class Mse():\n",
    "    def __call__(self,inp,targ):\n",
    "        self.inp=inp\n",
    "        self.targ=targ\n",
    "        return (self.inp.squeeze()-self.targ).pow(2).mean()\n",
    "    def backward(self):\n",
    "        self.inp.g = 2*(self.inp.squeeze()-self.targ).unsqueeze(-1)/self.targ.shape[0]"
   ]
  },
  {
   "cell_type": "markdown",
   "id": "59595083-93fe-4b86-b29c-53403d84b8e8",
   "metadata": {},
   "source": [
    "`Relu()` does not take an argument below, because we are initialize it not calling."
   ]
  },
  {
   "cell_type": "code",
   "execution_count": 69,
   "id": "3589acc8-65b3-4cf4-90b6-3a803609cf20",
   "metadata": {},
   "outputs": [],
   "source": [
    "class Model():\n",
    "    def __init__(self, w1,b1,w2,b2):\n",
    "        self.layers = [Lin(w1,b1),Relu(),Lin(w2,b2)]\n",
    "        self.loss= Mse()\n",
    "    def __call__(self,x,targ):\n",
    "        for l in self.layers: x = l(x)\n",
    "        return self.loss(x,targ)\n",
    "    def backward(self):\n",
    "        self.loss.backward()\n",
    "        for l in reversed(self.layers):l.backward()\n",
    "        \n",
    "        "
   ]
  },
  {
   "cell_type": "code",
   "execution_count": 70,
   "id": "dbae124c-105c-458f-b9c5-9f20a34ffa04",
   "metadata": {},
   "outputs": [],
   "source": [
    "w1.g,b1.g,w2.g,b2.g = [None]*4\n",
    "model = Model(w1, b1, w2, b2)"
   ]
  },
  {
   "cell_type": "code",
   "execution_count": 71,
   "id": "9ae9caca-af2f-4501-9a96-382db5b7814c",
   "metadata": {},
   "outputs": [
    {
     "name": "stdout",
     "output_type": "stream",
     "text": [
      "CPU times: user 174 ms, sys: 0 ns, total: 174 ms\n",
      "Wall time: 29.1 ms\n"
     ]
    }
   ],
   "source": [
    "%time loss = model(x_train, y_train)"
   ]
  },
  {
   "cell_type": "code",
   "execution_count": 72,
   "id": "33071e20-ee3b-43a8-97b6-4940acba82e2",
   "metadata": {},
   "outputs": [
    {
     "name": "stdout",
     "output_type": "stream",
     "text": [
      "CPU times: user 362 ms, sys: 93.1 ms, total: 455 ms\n",
      "Wall time: 75.8 ms\n"
     ]
    }
   ],
   "source": [
    "%time model.backward()"
   ]
  },
  {
   "cell_type": "markdown",
   "id": "047c5c3c-5c8e-43ea-9942-2d083bd871cc",
   "metadata": {},
   "source": [
    "**did not write it (below) just tried to understand. Try next time.**"
   ]
  },
  {
   "cell_type": "code",
   "execution_count": 73,
   "id": "2a2e7f2e-afbf-43c7-b84b-6e4fa6c8cc07",
   "metadata": {},
   "outputs": [],
   "source": [
    "class Module():\n",
    "    def __call__(self, *args):\n",
    "        self.args = args\n",
    "        self.out = self.forward(*args)\n",
    "        return self.out\n",
    "    \n",
    "    def forward(self): raise Exception('not implemented')\n",
    "    def backward(self): self.bwd(self.out, *self.args)\n",
    "    \n",
    "class Relu(Module):\n",
    "    def forward(self, inp): return inp.clamp_min(0.)-0.5\n",
    "    def bwd(self, out, inp): inp.g = (inp>0).float() * out.g\n",
    "    \n",
    "# self.w.g = inp.t() @ out.g is more readable\n",
    "class Lin(Module):\n",
    "    def __init__(self, w, b): self.w,self.b = w,b\n",
    "        \n",
    "    def forward(self, inp): return inp@self.w + self.b\n",
    "    \n",
    "    def bwd(self, out, inp):\n",
    "        inp.g = out.g @ self.w.t()\n",
    "        self.w.g = inp.t() @ out.g\n",
    "        self.b.g = out.g.sum(0)\n",
    "        \n",
    "class Mse(Module):\n",
    "    def forward (self, inp, targ): return (inp.squeeze() - targ).pow(2).mean()\n",
    "    def bwd(self, out, inp, targ): inp.g = 2*(inp.squeeze()-targ).unsqueeze(-1) / targ.shape[0]\n",
    "\n",
    "class Model():\n",
    "    def __init__(self):\n",
    "        self.layers = [Lin(w1,b1), Relu(), Lin(w2,b2)]\n",
    "        self.loss = Mse()\n",
    "        \n",
    "    def __call__(self, x, targ):\n",
    "        for l in self.layers: x = l(x)\n",
    "        return self.loss(x, targ)\n",
    "    \n",
    "    def backward(self):\n",
    "        self.loss.backward()\n",
    "        for l in reversed(self.layers): l.backward()"
   ]
  },
  {
   "cell_type": "code",
   "execution_count": 74,
   "id": "cf27f391-2f6b-4dcc-b10c-b9a0476adf04",
   "metadata": {},
   "outputs": [],
   "source": [
    "w1.g,b1.g,w2.g,b2.g = [None]*4\n",
    "model = Model()"
   ]
  },
  {
   "cell_type": "code",
   "execution_count": 75,
   "id": "1a3d495b-85f7-4f3a-b990-147a1ffadcd6",
   "metadata": {},
   "outputs": [],
   "source": [
    "w1.g,b1.g,w2.g,b2.g = [None]*4\n",
    "model = Model()"
   ]
  },
  {
   "cell_type": "code",
   "execution_count": 76,
   "id": "161cd979-9c59-4fa7-ac1b-60572e0f6d4d",
   "metadata": {},
   "outputs": [
    {
     "name": "stdout",
     "output_type": "stream",
     "text": [
      "CPU times: user 141 ms, sys: 0 ns, total: 141 ms\n",
      "Wall time: 23.4 ms\n"
     ]
    }
   ],
   "source": [
    "%time loss = model(x_train, y_train)"
   ]
  },
  {
   "cell_type": "code",
   "execution_count": 77,
   "id": "fc600c9a-f72d-48f2-8357-a933e035f2f0",
   "metadata": {},
   "outputs": [
    {
     "name": "stdout",
     "output_type": "stream",
     "text": [
      "CPU times: user 396 ms, sys: 120 ms, total: 516 ms\n",
      "Wall time: 86.3 ms\n"
     ]
    }
   ],
   "source": [
    "%time model.backward()"
   ]
  },
  {
   "cell_type": "markdown",
   "id": "149bb04f-04b4-4187-a8ac-d73402751783",
   "metadata": {},
   "source": [
    "## **What I am not good at:**\n",
    "- **I have no idea how `w.g`. and `b.g`was calculated**  \n",
    "This could be the answer:  Read this understand what is going on below.<br>[The Matrix Calculus You Need For Deep Learning](https://explained.ai/matrix-calculus/index.html)\n",
    "- Python skill for writing the Module Class"
   ]
  }
 ],
 "metadata": {
  "kernelspec": {
   "display_name": "Python 3 (ipykernel)",
   "language": "python",
   "name": "python3"
  },
  "language_info": {
   "codemirror_mode": {
    "name": "ipython",
    "version": 3
   },
   "file_extension": ".py",
   "mimetype": "text/x-python",
   "name": "python",
   "nbconvert_exporter": "python",
   "pygments_lexer": "ipython3",
   "version": "3.9.13"
  }
 },
 "nbformat": 4,
 "nbformat_minor": 5
}
